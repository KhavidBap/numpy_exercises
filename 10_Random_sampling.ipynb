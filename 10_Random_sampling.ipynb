{
  "cells": [
    {
      "cell_type": "markdown",
      "metadata": {
        "id": "IUupa9W3jXGt"
      },
      "source": [
        "# Random Sampling"
      ]
    },
    {
      "cell_type": "code",
      "execution_count": 1,
      "metadata": {
        "collapsed": true,
        "id": "VjvHxuWijXGu"
      },
      "outputs": [],
      "source": [
        "import numpy as np"
      ]
    },
    {
      "cell_type": "code",
      "execution_count": 2,
      "metadata": {
        "id": "UnBsxtl3jXGv",
        "outputId": "c7f2be13-4c28-473c-c1ae-ef409930e5d1",
        "colab": {
          "base_uri": "https://localhost:8080/",
          "height": 35
        }
      },
      "outputs": [
        {
          "output_type": "execute_result",
          "data": {
            "text/plain": [
              "'1.25.2'"
            ],
            "application/vnd.google.colaboratory.intrinsic+json": {
              "type": "string"
            }
          },
          "metadata": {},
          "execution_count": 2
        }
      ],
      "source": [
        "np.__version__"
      ]
    },
    {
      "cell_type": "code",
      "execution_count": null,
      "metadata": {
        "id": "J81cVNPnjXGv"
      },
      "outputs": [],
      "source": [
        "__author__ = 'kyubyong. longinglove@nate.com'"
      ]
    },
    {
      "cell_type": "markdown",
      "metadata": {
        "id": "QaJJHFNQjXGv"
      },
      "source": [
        "## Simple random data"
      ]
    },
    {
      "cell_type": "markdown",
      "metadata": {
        "id": "DVaP3RIqjXGw"
      },
      "source": [
        "Q1. Create an array of shape (3, 2) and populate it with random samples from a uniform distribution over [0, 1)."
      ]
    },
    {
      "cell_type": "code",
      "execution_count": 3,
      "metadata": {
        "id": "xPvxUJzvjXGw",
        "outputId": "e31a454a-ae5b-4e70-da9e-a83000aea66a",
        "colab": {
          "base_uri": "https://localhost:8080/"
        }
      },
      "outputs": [
        {
          "output_type": "execute_result",
          "data": {
            "text/plain": [
              "array([[0.23013877, 0.45492329],\n",
              "       [0.49834778, 0.02718101],\n",
              "       [0.51555791, 0.37758272]])"
            ]
          },
          "metadata": {},
          "execution_count": 3
        }
      ],
      "source": [
        "np.random.rand(3, 2)"
      ]
    },
    {
      "cell_type": "markdown",
      "metadata": {
        "id": "lciV3YDljXGw"
      },
      "source": [
        "Q2. Create an array of shape (1000, 1000) and populate it with random samples from a standard normal distribution. And verify that the mean and standard deviation is close enough to 0 and 1 repectively."
      ]
    },
    {
      "cell_type": "code",
      "execution_count": 5,
      "metadata": {
        "id": "X-I8z8OnjXGw",
        "outputId": "7c3c19c2-ebc2-424e-8f0b-ce4bc42baede",
        "colab": {
          "base_uri": "https://localhost:8080/"
        }
      },
      "outputs": [
        {
          "output_type": "stream",
          "name": "stdout",
          "text": [
            "-0.0017333174544432637\n",
            "0.99888381044092\n"
          ]
        }
      ],
      "source": [
        "print(np.mean(np.random.normal(loc=0.0, scale=1.0, size=(1000, 1000))))\n",
        "print(np.std(np.random.randn(1000, 1000)))"
      ]
    },
    {
      "cell_type": "markdown",
      "metadata": {
        "id": "ZnFHKqvvjXGw"
      },
      "source": [
        "Q3. Create an array of shape (3, 2) and populate it with random integers ranging from 0 to 3 (inclusive) from a discrete uniform distribution."
      ]
    },
    {
      "cell_type": "code",
      "execution_count": 6,
      "metadata": {
        "id": "lqyQdeBIjXGw",
        "outputId": "bd631547-5e65-41aa-93fc-f381a819f7e0",
        "colab": {
          "base_uri": "https://localhost:8080/"
        }
      },
      "outputs": [
        {
          "output_type": "execute_result",
          "data": {
            "text/plain": [
              "array([[3, 2],\n",
              "       [0, 1],\n",
              "       [1, 0]])"
            ]
          },
          "metadata": {},
          "execution_count": 6
        }
      ],
      "source": [
        "np.random.randint(0, 4, (3, 2))"
      ]
    },
    {
      "cell_type": "markdown",
      "metadata": {
        "id": "Zk7-Ec0vjXGw"
      },
      "source": [
        "Q4. Extract 1 elements from x randomly such that each of them would be associated with probabilities .3, .5, .2. Then print the result 10 times."
      ]
    },
    {
      "cell_type": "code",
      "execution_count": 10,
      "metadata": {
        "id": "Eh7N_4j0jXGw",
        "outputId": "87c19f55-91c6-47a9-a110-e385132c5e05",
        "colab": {
          "base_uri": "https://localhost:8080/"
        }
      },
      "outputs": [
        {
          "output_type": "stream",
          "name": "stdout",
          "text": [
            "b'5 out of 10'\n",
            "b'5 out of 10'\n",
            "b'3 out of 10'\n",
            "b'2 out of 10'\n",
            "b'2 out of 10'\n",
            "b'5 out of 10'\n",
            "b'5 out of 10'\n",
            "b'3 out of 10'\n",
            "b'5 out of 10'\n",
            "b'3 out of 10'\n"
          ]
        }
      ],
      "source": [
        "x = [b'3 out of 10', b'5 out of 10', b'2 out of 10']\n",
        "for _ in range(10):\n",
        "    print(np.random.choice(x, p=[.3, .5, .2]))"
      ]
    },
    {
      "cell_type": "markdown",
      "metadata": {
        "id": "gwvHtURnjXGx"
      },
      "source": [
        "Q5. Extract 3 different integers from 0 to 9 randomly with the same probabilities."
      ]
    },
    {
      "cell_type": "code",
      "execution_count": 11,
      "metadata": {
        "id": "asf-f3bljXGx",
        "outputId": "f2e57af7-effe-4cb3-cf11-39b15d60e472",
        "colab": {
          "base_uri": "https://localhost:8080/"
        }
      },
      "outputs": [
        {
          "output_type": "execute_result",
          "data": {
            "text/plain": [
              "array([4, 2, 8])"
            ]
          },
          "metadata": {},
          "execution_count": 11
        }
      ],
      "source": [
        "np.random.choice(10, 3, replace=False)"
      ]
    },
    {
      "cell_type": "markdown",
      "metadata": {
        "id": "fUZfKPCmjXGx"
      },
      "source": [
        "## Permutations"
      ]
    },
    {
      "cell_type": "markdown",
      "metadata": {
        "id": "Y_oopRyvjXGx"
      },
      "source": [
        "Q6. Shuffle numbers between 0 and 9 (inclusive)."
      ]
    },
    {
      "cell_type": "code",
      "execution_count": 12,
      "metadata": {
        "id": "iCTIrwrWjXGx",
        "outputId": "e76c67b3-79f6-4b87-ab93-db42891ea8cd",
        "colab": {
          "base_uri": "https://localhost:8080/"
        }
      },
      "outputs": [
        {
          "output_type": "execute_result",
          "data": {
            "text/plain": [
              "array([7, 4, 9, 3, 8, 0, 5, 2, 1, 6])"
            ]
          },
          "metadata": {},
          "execution_count": 12
        }
      ],
      "source": [
        "x = np.arange(10)\n",
        "np.random.shuffle(x)\n",
        "x"
      ]
    },
    {
      "cell_type": "code",
      "execution_count": 13,
      "metadata": {
        "id": "SAzItN7EjXGx",
        "outputId": "c1b8e498-18c6-4033-806b-03aa8e6fb655",
        "colab": {
          "base_uri": "https://localhost:8080/"
        }
      },
      "outputs": [
        {
          "output_type": "execute_result",
          "data": {
            "text/plain": [
              "array([3, 2, 5, 4, 0, 1, 7, 6, 8, 9])"
            ]
          },
          "metadata": {},
          "execution_count": 13
        }
      ],
      "source": [
        "np.random.permutation(10)"
      ]
    },
    {
      "cell_type": "markdown",
      "metadata": {
        "id": "cYvBwtmijXGx"
      },
      "source": [
        "## Random generator"
      ]
    },
    {
      "cell_type": "markdown",
      "metadata": {
        "id": "NxXnbHVejXGx"
      },
      "source": [
        "Q7. Assign number 10 to the seed of the random generator so that you can get the same value next time."
      ]
    },
    {
      "cell_type": "code",
      "execution_count": 14,
      "metadata": {
        "collapsed": true,
        "id": "-faj06-QjXGy"
      },
      "outputs": [],
      "source": [
        "np.random.seed(10)"
      ]
    }
  ],
  "metadata": {
    "kernelspec": {
      "display_name": "Python 2",
      "language": "python",
      "name": "python2"
    },
    "language_info": {
      "codemirror_mode": {
        "name": "ipython",
        "version": 2
      },
      "file_extension": ".py",
      "mimetype": "text/x-python",
      "name": "python",
      "nbconvert_exporter": "python",
      "pygments_lexer": "ipython2",
      "version": "2.7.10"
    },
    "colab": {
      "provenance": []
    }
  },
  "nbformat": 4,
  "nbformat_minor": 0
}