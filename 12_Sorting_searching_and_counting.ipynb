{
  "cells": [
    {
      "cell_type": "markdown",
      "metadata": {
        "id": "z9yAYAJKlMvT"
      },
      "source": [
        "# Soring, searching, and counting"
      ]
    },
    {
      "cell_type": "code",
      "execution_count": 2,
      "metadata": {
        "collapsed": true,
        "id": "HlZpsonflMvU"
      },
      "outputs": [],
      "source": [
        "import numpy as np"
      ]
    },
    {
      "cell_type": "code",
      "execution_count": null,
      "metadata": {
        "id": "NmG0J5eslMvU",
        "outputId": "6f23ba57-21c1-4fcc-cb09-c727572ccca3"
      },
      "outputs": [
        {
          "data": {
            "text/plain": [
              "'1.11.2'"
            ]
          },
          "execution_count": 2,
          "metadata": {},
          "output_type": "execute_result"
        }
      ],
      "source": [
        "np.__version__"
      ]
    },
    {
      "cell_type": "code",
      "execution_count": null,
      "metadata": {
        "collapsed": true,
        "id": "iIF9ma3ClMvV"
      },
      "outputs": [],
      "source": [
        "author = 'kyubyong. longinglove@nate.com'"
      ]
    },
    {
      "cell_type": "markdown",
      "metadata": {
        "id": "m7oDdgd5lMvV"
      },
      "source": [
        "## Sorting"
      ]
    },
    {
      "cell_type": "markdown",
      "metadata": {
        "id": "goKlzT8elMvV"
      },
      "source": [
        "Q1. Sort x along the second axis."
      ]
    },
    {
      "cell_type": "code",
      "execution_count": 3,
      "metadata": {
        "id": "IDOusngBlMvV",
        "outputId": "571ce516-5d38-4be1-9fcc-2cbbfafc67d9",
        "colab": {
          "base_uri": "https://localhost:8080/"
        }
      },
      "outputs": [
        {
          "output_type": "execute_result",
          "data": {
            "text/plain": [
              "array([[1, 4],\n",
              "       [1, 3]])"
            ]
          },
          "metadata": {},
          "execution_count": 3
        }
      ],
      "source": [
        "x = np.array([[1,4],[3,1]])\n",
        "np.sort(x, axis=1)"
      ]
    },
    {
      "cell_type": "markdown",
      "metadata": {
        "id": "q3lcz5-dlMvV"
      },
      "source": [
        "Q2. Sort pairs of surnames and first names and return their indices. (first by surname, then by name)."
      ]
    },
    {
      "cell_type": "code",
      "execution_count": 4,
      "metadata": {
        "id": "dbfVcEQxlMvV",
        "outputId": "69889147-24ed-4535-9062-883aeab8165f",
        "colab": {
          "base_uri": "https://localhost:8080/"
        }
      },
      "outputs": [
        {
          "output_type": "execute_result",
          "data": {
            "text/plain": [
              "array([1, 2, 0])"
            ]
          },
          "metadata": {},
          "execution_count": 4
        }
      ],
      "source": [
        "surnames =    ('Hertz',    'Galilei', 'Hertz')\n",
        "first_names = ('Heinrich', 'Galileo', 'Gustav')\n",
        "np.lexsort((first_names, surnames))"
      ]
    },
    {
      "cell_type": "markdown",
      "metadata": {
        "id": "wPNway15lMvV"
      },
      "source": [
        "Q3. Get the indices that would sort x along the second axis."
      ]
    },
    {
      "cell_type": "code",
      "execution_count": 5,
      "metadata": {
        "id": "UakNBFLElMvV",
        "outputId": "2d761b36-5bb8-45ff-b77b-08b133ea1668",
        "colab": {
          "base_uri": "https://localhost:8080/"
        }
      },
      "outputs": [
        {
          "output_type": "execute_result",
          "data": {
            "text/plain": [
              "array([[0, 1],\n",
              "       [1, 0]])"
            ]
          },
          "metadata": {},
          "execution_count": 5
        }
      ],
      "source": [
        "x = np.array([[1,4],[3,1]])\n",
        "np.argsort(x, axis=1)"
      ]
    },
    {
      "cell_type": "markdown",
      "metadata": {
        "id": "M4zdl1tilMvW"
      },
      "source": [
        "Q4. Create an array such that its fifth element would be the same as the element of sorted x, and it divide other elements by their value."
      ]
    },
    {
      "cell_type": "code",
      "execution_count": 13,
      "metadata": {
        "id": "BHXEjfZPlMvW",
        "outputId": "f4c4ba2e-65b1-488d-d03a-5f3ab2da8042",
        "colab": {
          "base_uri": "https://localhost:8080/"
        }
      },
      "outputs": [
        {
          "output_type": "stream",
          "name": "stdout",
          "text": [
            "[8 0 6 5 9 1 2 7 3 4]\n",
            "[1 3 2 4 0 5 6 7 8 9]\n"
          ]
        }
      ],
      "source": [
        "x = np.random.permutation(10)\n",
        "print(x)\n",
        "print(np.partition(x, 5))"
      ]
    },
    {
      "cell_type": "markdown",
      "metadata": {
        "id": "Al7sAXFClMvW"
      },
      "source": [
        "Q5. Create the indices of an array such that its third element would be the same as the element of sorted x, and it divide other elements by their value."
      ]
    },
    {
      "cell_type": "code",
      "execution_count": 12,
      "metadata": {
        "id": "M7-LPc-UlMvW",
        "outputId": "6ddef51f-b047-43fc-f5e3-a51d4590bb54",
        "colab": {
          "base_uri": "https://localhost:8080/"
        }
      },
      "outputs": [
        {
          "output_type": "stream",
          "name": "stdout",
          "text": [
            "[3 1 7 2 5 8 4 6 0 9]\n",
            "[0 1 2 3 4 5 8 6 7 9]\n"
          ]
        }
      ],
      "source": [
        "x = np.random.permutation(10)\n",
        "print(x)\n",
        "print(np.partition(x, 3))"
      ]
    },
    {
      "cell_type": "markdown",
      "metadata": {
        "id": "wigMlOMmlMvW"
      },
      "source": [
        "## Searching"
      ]
    },
    {
      "cell_type": "markdown",
      "metadata": {
        "id": "ANI8hRVvlMvW"
      },
      "source": [
        "Q6. Get the maximum and minimum values and their indices of x along the second axis."
      ]
    },
    {
      "cell_type": "code",
      "execution_count": 14,
      "metadata": {
        "id": "zV0ovBNqlMvW",
        "outputId": "a995ddf2-0a2e-4abb-c6f1-bcf0318940ba",
        "colab": {
          "base_uri": "https://localhost:8080/"
        }
      },
      "outputs": [
        {
          "output_type": "stream",
          "name": "stdout",
          "text": [
            "[[4 1 7 2 3]\n",
            " [9 8 0 5 6]]\n",
            "[7 9]\n",
            "[2 0]\n",
            "[1 0]\n",
            "[1 2]\n"
          ]
        }
      ],
      "source": [
        "x = np.random.permutation(10).reshape(2, 5)\n",
        "print(x)\n",
        "print(np.max(x, 1))\n",
        "print(np.argmax(x, 1))\n",
        "print(np.min(x, 1))\n",
        "print(np.argmin(x, 1))"
      ]
    },
    {
      "cell_type": "markdown",
      "metadata": {
        "id": "dTCDEJetlMvW"
      },
      "source": [
        "Q7. Get the maximum and minimum values and their indices of x along the second axis, ignoring NaNs."
      ]
    },
    {
      "cell_type": "code",
      "execution_count": 16,
      "metadata": {
        "id": "F4W5gEo9lMvX",
        "outputId": "d00eaa0d-5a10-43ed-8922-04930aa78829",
        "colab": {
          "base_uri": "https://localhost:8080/"
        }
      },
      "outputs": [
        {
          "output_type": "stream",
          "name": "stdout",
          "text": [
            "[4. 3.]\n",
            "[1 0]\n",
            "[4. 2.]\n",
            "[1 1]\n"
          ]
        }
      ],
      "source": [
        "x = np.array([[np.nan, 4], [3, 2]])\n",
        "print(np.nanmax(x, 1))\n",
        "print(np.nanargmax(x, 1))\n",
        "print(np.nanmin(x, 1))\n",
        "print(np.nanargmin(x, 1))"
      ]
    },
    {
      "cell_type": "markdown",
      "metadata": {
        "id": "f2BgQBr7lMvX"
      },
      "source": [
        "Q8. Get the values and indices of the elements that are bigger than 2 in x.\n"
      ]
    },
    {
      "cell_type": "code",
      "execution_count": 17,
      "metadata": {
        "id": "cudKu3OElMvX",
        "outputId": "a5aa377b-79d9-429e-b005-50b3bd618c1d",
        "colab": {
          "base_uri": "https://localhost:8080/"
        }
      },
      "outputs": [
        {
          "output_type": "stream",
          "name": "stdout",
          "text": [
            "[3 3 5]\n",
            "(array([0, 1, 1]), array([2, 1, 2]))\n"
          ]
        }
      ],
      "source": [
        "x = np.array([[1, 2, 3], [1, 3, 5]])\n",
        "print(x[x > 2])\n",
        "print(np.nonzero(x > 2))"
      ]
    },
    {
      "cell_type": "markdown",
      "metadata": {
        "id": "Bggzmx5ElMvX"
      },
      "source": [
        "Q9. Get the indices of the elements that are bigger than 2 in the flattend x."
      ]
    },
    {
      "cell_type": "code",
      "execution_count": 18,
      "metadata": {
        "id": "udL1jDX7lMvX",
        "outputId": "53dc7776-0294-4b8b-c1df-c1fbebf6c94b",
        "colab": {
          "base_uri": "https://localhost:8080/"
        }
      },
      "outputs": [
        {
          "output_type": "execute_result",
          "data": {
            "text/plain": [
              "array([2, 4, 5])"
            ]
          },
          "metadata": {},
          "execution_count": 18
        }
      ],
      "source": [
        "x = np.array([[1, 2, 3], [1, 3, 5]])\n",
        "np.flatnonzero(x > 2)"
      ]
    },
    {
      "cell_type": "markdown",
      "metadata": {
        "id": "UbjcgKXtlMvX"
      },
      "source": [
        "Q10. Check the elements of x and return 0 if it is less than 0, otherwise the element itself."
      ]
    },
    {
      "cell_type": "code",
      "execution_count": 19,
      "metadata": {
        "id": "8SKp2ONZlMvX",
        "outputId": "e3889962-3c64-4c9c-d1ac-0303de9d2c77",
        "colab": {
          "base_uri": "https://localhost:8080/"
        }
      },
      "outputs": [
        {
          "output_type": "execute_result",
          "data": {
            "text/plain": [
              "array([[0, 0, 0],\n",
              "       [0, 0, 0],\n",
              "       [1, 2, 3]])"
            ]
          },
          "metadata": {},
          "execution_count": 19
        }
      ],
      "source": [
        "x = np.arange(-5, 4).reshape(3, 3)\n",
        "np.where(x < 0, 0, x)"
      ]
    },
    {
      "cell_type": "markdown",
      "metadata": {
        "id": "PNJoCLN4lMvX"
      },
      "source": [
        "Q11. Get the indices where elements of y should be inserted to x to maintain order."
      ]
    },
    {
      "cell_type": "code",
      "execution_count": 20,
      "metadata": {
        "id": "CJ4nStCslMvX",
        "outputId": "14f56232-0167-4820-f087-fcfa208e1ebc",
        "colab": {
          "base_uri": "https://localhost:8080/"
        }
      },
      "outputs": [
        {
          "output_type": "execute_result",
          "data": {
            "text/plain": [
              "array([0, 2, 1, 3])"
            ]
          },
          "metadata": {},
          "execution_count": 20
        }
      ],
      "source": [
        "x = [1, 3, 5, 7, 9]\n",
        "y = [0, 4, 2, 6]\n",
        "np.searchsorted(x, y)"
      ]
    },
    {
      "cell_type": "markdown",
      "metadata": {
        "id": "gcB1VCOKlMvY"
      },
      "source": [
        "## Counting"
      ]
    },
    {
      "cell_type": "markdown",
      "metadata": {
        "id": "J6lQnTrxlMvY"
      },
      "source": [
        "Q12. Get the number of nonzero elements in x."
      ]
    },
    {
      "cell_type": "code",
      "execution_count": 21,
      "metadata": {
        "id": "h9r_PrvBlMvY",
        "outputId": "ceebaf5f-1d61-449b-8270-e945b15a8c64",
        "colab": {
          "base_uri": "https://localhost:8080/"
        }
      },
      "outputs": [
        {
          "output_type": "execute_result",
          "data": {
            "text/plain": [
              "5"
            ]
          },
          "metadata": {},
          "execution_count": 21
        }
      ],
      "source": [
        "x = [[0,1,7,0,0],[3,0,0,2,19]]\n",
        "np.count_nonzero(x)"
      ]
    },
    {
      "cell_type": "code",
      "execution_count": null,
      "metadata": {
        "collapsed": true,
        "id": "3r9iqjBilMvY"
      },
      "outputs": [],
      "source": []
    }
  ],
  "metadata": {
    "kernelspec": {
      "display_name": "Python 2",
      "language": "python",
      "name": "python2"
    },
    "language_info": {
      "codemirror_mode": {
        "name": "ipython",
        "version": 2
      },
      "file_extension": ".py",
      "mimetype": "text/x-python",
      "name": "python",
      "nbconvert_exporter": "python",
      "pygments_lexer": "ipython2",
      "version": "2.7.10"
    },
    "colab": {
      "provenance": []
    }
  },
  "nbformat": 4,
  "nbformat_minor": 0
}