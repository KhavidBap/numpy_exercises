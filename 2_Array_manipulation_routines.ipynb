{
  "cells": [
    {
      "cell_type": "markdown",
      "metadata": {
        "id": "Y6zSTHE7dTIH"
      },
      "source": [
        "# Array manipulation routines"
      ]
    },
    {
      "cell_type": "code",
      "execution_count": 1,
      "metadata": {
        "collapsed": true,
        "id": "AxVll8UldTIK"
      },
      "outputs": [],
      "source": [
        "import numpy as np"
      ]
    },
    {
      "cell_type": "code",
      "execution_count": 2,
      "metadata": {
        "id": "7GYeWHoNdTIM",
        "outputId": "fdabc096-634f-4774-8a79-1201c91b4a9a",
        "colab": {
          "base_uri": "https://localhost:8080/",
          "height": 35
        }
      },
      "outputs": [
        {
          "output_type": "execute_result",
          "data": {
            "text/plain": [
              "'1.25.2'"
            ],
            "application/vnd.google.colaboratory.intrinsic+json": {
              "type": "string"
            }
          },
          "metadata": {},
          "execution_count": 2
        }
      ],
      "source": [
        "np.__version__"
      ]
    },
    {
      "cell_type": "markdown",
      "metadata": {
        "collapsed": true,
        "id": "rGvO9a_3dTIN"
      },
      "source": [
        "Q1. Let x be a ndarray [10, 10, 3] with all elements set to one. Reshape x so that the size of the second dimension equals 150."
      ]
    },
    {
      "cell_type": "code",
      "execution_count": 12,
      "metadata": {
        "id": "Q9XdgyvAdTIO",
        "outputId": "913f5243-f8c7-4330-fc2d-289dc27a4b89",
        "colab": {
          "base_uri": "https://localhost:8080/"
        }
      },
      "outputs": [
        {
          "output_type": "execute_result",
          "data": {
            "text/plain": [
              "array([[1., 1., 1., 1., 1., 1., 1., 1., 1., 1., 1., 1., 1., 1., 1., 1.,\n",
              "        1., 1., 1., 1., 1., 1., 1., 1., 1., 1., 1., 1., 1., 1., 1., 1.,\n",
              "        1., 1., 1., 1., 1., 1., 1., 1., 1., 1., 1., 1., 1., 1., 1., 1.,\n",
              "        1., 1., 1., 1., 1., 1., 1., 1., 1., 1., 1., 1., 1., 1., 1., 1.,\n",
              "        1., 1., 1., 1., 1., 1., 1., 1., 1., 1., 1., 1., 1., 1., 1., 1.,\n",
              "        1., 1., 1., 1., 1., 1., 1., 1., 1., 1., 1., 1., 1., 1., 1., 1.,\n",
              "        1., 1., 1., 1., 1., 1., 1., 1., 1., 1., 1., 1., 1., 1., 1., 1.,\n",
              "        1., 1., 1., 1., 1., 1., 1., 1., 1., 1., 1., 1., 1., 1., 1., 1.,\n",
              "        1., 1., 1., 1., 1., 1., 1., 1., 1., 1., 1., 1., 1., 1., 1., 1.,\n",
              "        1., 1., 1., 1., 1., 1.],\n",
              "       [1., 1., 1., 1., 1., 1., 1., 1., 1., 1., 1., 1., 1., 1., 1., 1.,\n",
              "        1., 1., 1., 1., 1., 1., 1., 1., 1., 1., 1., 1., 1., 1., 1., 1.,\n",
              "        1., 1., 1., 1., 1., 1., 1., 1., 1., 1., 1., 1., 1., 1., 1., 1.,\n",
              "        1., 1., 1., 1., 1., 1., 1., 1., 1., 1., 1., 1., 1., 1., 1., 1.,\n",
              "        1., 1., 1., 1., 1., 1., 1., 1., 1., 1., 1., 1., 1., 1., 1., 1.,\n",
              "        1., 1., 1., 1., 1., 1., 1., 1., 1., 1., 1., 1., 1., 1., 1., 1.,\n",
              "        1., 1., 1., 1., 1., 1., 1., 1., 1., 1., 1., 1., 1., 1., 1., 1.,\n",
              "        1., 1., 1., 1., 1., 1., 1., 1., 1., 1., 1., 1., 1., 1., 1., 1.,\n",
              "        1., 1., 1., 1., 1., 1., 1., 1., 1., 1., 1., 1., 1., 1., 1., 1.,\n",
              "        1., 1., 1., 1., 1., 1.]])"
            ]
          },
          "metadata": {},
          "execution_count": 12
        }
      ],
      "source": [
        "x = np.ones([10, 10, 3])\n",
        "np.reshape(x, [-1, 150])"
      ]
    },
    {
      "cell_type": "markdown",
      "metadata": {
        "id": "wZxvrHmHdTIO"
      },
      "source": [
        "Q2. Let x be array [[1, 2, 3], [4, 5, 6]]. Convert it to [1 4 2 5 3 6]."
      ]
    },
    {
      "cell_type": "code",
      "execution_count": 11,
      "metadata": {
        "id": "vGfjWWjFdTIO",
        "outputId": "371c681e-e1d0-48e0-af26-7360475a5f7f",
        "colab": {
          "base_uri": "https://localhost:8080/"
        }
      },
      "outputs": [
        {
          "output_type": "execute_result",
          "data": {
            "text/plain": [
              "array([1, 4, 2, 5, 3, 6])"
            ]
          },
          "metadata": {},
          "execution_count": 11
        }
      ],
      "source": [
        "x = np.array([[1, 2, 3], [4, 5, 6]])\n",
        "np.ravel(x, order='F')"
      ]
    },
    {
      "cell_type": "markdown",
      "metadata": {
        "id": "Jl8hUBmPdTIP"
      },
      "source": [
        "Q3. Let x be array [[1, 2, 3], [4, 5, 6]]. Get the 5th element."
      ]
    },
    {
      "cell_type": "code",
      "execution_count": 13,
      "metadata": {
        "id": "iy9jZ3IydTIP",
        "outputId": "a62c80ca-3af7-4c0a-a684-79e4640363a6",
        "colab": {
          "base_uri": "https://localhost:8080/"
        }
      },
      "outputs": [
        {
          "output_type": "execute_result",
          "data": {
            "text/plain": [
              "5"
            ]
          },
          "metadata": {},
          "execution_count": 13
        }
      ],
      "source": [
        "x = np.array([[1, 2, 3], [4, 5, 6]])\n",
        "x.flat[4]"
      ]
    },
    {
      "cell_type": "markdown",
      "metadata": {
        "id": "BEhcEgg-dTIP"
      },
      "source": [
        "Q4. Let x be an arbitrary 3-D array of shape (3, 4, 5). Permute the dimensions of x such that the new shape will be (4,3,5).\n"
      ]
    },
    {
      "cell_type": "code",
      "execution_count": 14,
      "metadata": {
        "id": "hDqMEOM5dTIQ",
        "outputId": "9ef5689b-f31d-4ad0-9c11-0f7100bf9b2f",
        "colab": {
          "base_uri": "https://localhost:8080/"
        }
      },
      "outputs": [
        {
          "output_type": "execute_result",
          "data": {
            "text/plain": [
              "(4, 3, 5)"
            ]
          },
          "metadata": {},
          "execution_count": 14
        }
      ],
      "source": [
        "x = np.zeros((3, 4, 5))\n",
        "X = np.swapaxes(x, 1, 0)\n",
        "X.shape"
      ]
    },
    {
      "cell_type": "markdown",
      "metadata": {
        "id": "DispuZL8dTIQ"
      },
      "source": [
        "Q5. Let x be an arbitrary 2-D array of shape (3, 4). Permute the dimensions of x such that the new shape will be (4,3)."
      ]
    },
    {
      "cell_type": "code",
      "execution_count": 15,
      "metadata": {
        "id": "VIDdAB6KdTIR",
        "outputId": "2c16aa14-0e06-4863-d6d4-e94f6264037e",
        "colab": {
          "base_uri": "https://localhost:8080/"
        }
      },
      "outputs": [
        {
          "output_type": "execute_result",
          "data": {
            "text/plain": [
              "(4, 3)"
            ]
          },
          "metadata": {},
          "execution_count": 15
        }
      ],
      "source": [
        "x = np.zeros((3, 4))\n",
        "X = np.swapaxes(x, 1, 0)\n",
        "X.shape"
      ]
    },
    {
      "cell_type": "markdown",
      "metadata": {
        "id": "v9IHCTpIdTIR"
      },
      "source": [
        "Q5. Let x be an arbitrary 2-D array of shape (3, 4). Insert a nex axis such that the new shape will be (3, 1, 4)."
      ]
    },
    {
      "cell_type": "code",
      "execution_count": 16,
      "metadata": {
        "id": "8DwxjHhPdTIR",
        "outputId": "08cf127b-15a5-4153-f43a-67fc973bcafd",
        "colab": {
          "base_uri": "https://localhost:8080/"
        }
      },
      "outputs": [
        {
          "output_type": "execute_result",
          "data": {
            "text/plain": [
              "(3, 1, 4)"
            ]
          },
          "metadata": {},
          "execution_count": 16
        }
      ],
      "source": [
        "x = np.zeros((3, 4))\n",
        "np.expand_dims(x, axis=1).shape"
      ]
    },
    {
      "cell_type": "markdown",
      "metadata": {
        "id": "GqJb6g4tdTIS"
      },
      "source": [
        "Q6. Let x be an arbitrary 3-D array of shape (3, 4, 1). Remove a single-dimensional entries such that the new shape will be (3, 4)."
      ]
    },
    {
      "cell_type": "code",
      "execution_count": 17,
      "metadata": {
        "id": "fBJxAMpidTIS",
        "outputId": "3306519f-0c65-49d0-fab5-608370675119",
        "colab": {
          "base_uri": "https://localhost:8080/"
        }
      },
      "outputs": [
        {
          "output_type": "execute_result",
          "data": {
            "text/plain": [
              "(3, 4)"
            ]
          },
          "metadata": {},
          "execution_count": 17
        }
      ],
      "source": [
        "x = np.zeros((3, 4, 1))\n",
        "np.squeeze(x).shape"
      ]
    },
    {
      "cell_type": "markdown",
      "metadata": {
        "id": "WQRSGfDDdTIS"
      },
      "source": [
        "Q7. Lex x be an array <br/>\n",
        "[[ 1 2 3]<br/>\n",
        "[ 4 5 6].<br/><br/>\n",
        "and y be an array <br/>\n",
        "[[ 7 8 9]<br/>\n",
        "[10 11 12]].<br/>\n",
        "Concatenate x and y so that a new array looks like <br/>[[1, 2, 3, 7, 8, 9], <br/>[4, 5, 6, 10, 11, 12]].\n"
      ]
    },
    {
      "cell_type": "code",
      "execution_count": 18,
      "metadata": {
        "id": "Cp9KLPj0dTIS",
        "outputId": "ed87199a-00aa-4a15-ff0b-845b2b1ee8f4",
        "colab": {
          "base_uri": "https://localhost:8080/"
        }
      },
      "outputs": [
        {
          "output_type": "execute_result",
          "data": {
            "text/plain": [
              "array([[ 1,  2,  3,  7,  8,  9],\n",
              "       [ 4,  5,  6, 10, 11, 12]])"
            ]
          },
          "metadata": {},
          "execution_count": 18
        }
      ],
      "source": [
        "x = np.array([[1, 2, 3], [4, 5, 6]])\n",
        "y = np.array([[7, 8, 9], [10, 11, 12]])\n",
        "np.concatenate((x, y), 1)\n",
        "np.hstack((x, y))"
      ]
    },
    {
      "cell_type": "markdown",
      "metadata": {
        "id": "FKbS_odPdTIT"
      },
      "source": [
        "Q8. Lex x be an array <br/>\n",
        "[[ 1 2 3]<br/>\n",
        "[ 4 5 6].<br/><br/>\n",
        "and y be an array <br/>\n",
        "[[ 7 8 9]<br/>\n",
        "[10 11 12]].<br/>\n",
        "Concatenate x and y so that a new array looks like <br/>[[ 1  2  3]<br/>\n",
        " [ 4  5  6]<br/>\n",
        " [ 7  8  9]<br/>\n",
        " [10 11 12]]\n"
      ]
    },
    {
      "cell_type": "code",
      "execution_count": 20,
      "metadata": {
        "id": "gcj6i_ZrdTIT",
        "outputId": "37227e9c-7846-4e78-cd07-763229bdb763",
        "colab": {
          "base_uri": "https://localhost:8080/"
        }
      },
      "outputs": [
        {
          "output_type": "execute_result",
          "data": {
            "text/plain": [
              "array([[ 1,  2,  3],\n",
              "       [ 4,  5,  6],\n",
              "       [ 7,  8,  9],\n",
              "       [10, 11, 12]])"
            ]
          },
          "metadata": {},
          "execution_count": 20
        }
      ],
      "source": [
        "x = np.array([[1, 2, 3], [4, 5, 6]])\n",
        "y = np.array([[7, 8, 9], [10, 11, 12]])\n",
        "np.concatenate((x, y), 0)\n",
        "np.vstack((x, y))"
      ]
    },
    {
      "cell_type": "markdown",
      "metadata": {
        "id": "E3ldB99ydTIT"
      },
      "source": [
        "Q8. Let x be an array [1 2 3] and y be [4 5 6]. Convert it to [[1, 4], [2, 5], [3, 6]]."
      ]
    },
    {
      "cell_type": "code",
      "execution_count": 21,
      "metadata": {
        "id": "6pG7niYOdTIT",
        "outputId": "dcbdf03f-d00b-45d8-fe6c-5e88d5d56e9d",
        "colab": {
          "base_uri": "https://localhost:8080/"
        }
      },
      "outputs": [
        {
          "output_type": "execute_result",
          "data": {
            "text/plain": [
              "array([[1, 4],\n",
              "       [2, 5],\n",
              "       [3, 6]])"
            ]
          },
          "metadata": {},
          "execution_count": 21
        }
      ],
      "source": [
        "x = np.array((1,2,3))\n",
        "y = np.array((4,5,6))\n",
        "np.column_stack((x, y))"
      ]
    },
    {
      "cell_type": "markdown",
      "metadata": {
        "id": "F_itme-ZdTIT"
      },
      "source": [
        "Q9. Let x be an array [[1],[2],[3]] and y be [[4], [5], [6]]. Convert x to [[[1, 4]], [[2, 5]], [[3, 6]]]."
      ]
    },
    {
      "cell_type": "code",
      "execution_count": 22,
      "metadata": {
        "id": "JUuKlRG0dTIT",
        "outputId": "2fd4b004-08f9-45ba-bc43-abd93e11945b",
        "colab": {
          "base_uri": "https://localhost:8080/"
        }
      },
      "outputs": [
        {
          "output_type": "execute_result",
          "data": {
            "text/plain": [
              "array([[[1, 4]],\n",
              "\n",
              "       [[2, 5]],\n",
              "\n",
              "       [[3, 6]]])"
            ]
          },
          "metadata": {},
          "execution_count": 22
        }
      ],
      "source": [
        "x = np.array([[1],[2],[3]])\n",
        "y = np.array([[4],[5],[6]])\n",
        "np.dstack((x, y))"
      ]
    },
    {
      "cell_type": "markdown",
      "metadata": {
        "id": "UvfZFY1sdTIT"
      },
      "source": [
        "Q10. Let x be an array [1, 2, 3, ..., 9]. Split x into 3 arrays, each of which has 4, 2, and 3 elements in the original order."
      ]
    },
    {
      "cell_type": "code",
      "execution_count": 23,
      "metadata": {
        "id": "edCQPU0ddTIU",
        "outputId": "36627f36-d9cc-478f-99a6-8a3597c6f0ef",
        "colab": {
          "base_uri": "https://localhost:8080/"
        }
      },
      "outputs": [
        {
          "output_type": "execute_result",
          "data": {
            "text/plain": [
              "[array([1, 2, 3, 4]), array([5, 6]), array([7, 8, 9])]"
            ]
          },
          "metadata": {},
          "execution_count": 23
        }
      ],
      "source": [
        "x = np.arange(1, 10)\n",
        "np.split(x, [4, 6])"
      ]
    },
    {
      "cell_type": "markdown",
      "metadata": {
        "id": "84xiu03xdTIV"
      },
      "source": [
        "Q11. Let x be an array<br/>\n",
        "[[[  0.,   1.,   2.,   3.],<br/>\n",
        "  [  4.,   5.,   6.,   7.]],<br/>\n",
        "\n",
        " [[  8.,   9.,  10.,  11.],<br/>\n",
        "  [ 12.,  13.,  14.,  15.]]].<br/>\n",
        "Split it into two such that the first array looks like<br/>\n",
        "[[[  0.,   1.,   2.],<br/>\n",
        "  [  4.,   5.,   6.]],<br/>\n",
        "\n",
        " [[  8.,   9.,  10.],<br/>\n",
        "  [ 12.,  13.,  14.]]].<br/>\n",
        "  \n",
        "and the second one look like:<br/>\n",
        "  \n",
        "[[[  3.],<br/>\n",
        "  [  7.]],<br/>\n",
        "\n",
        " [[  11.],<br/>\n",
        "  [ 15.]]].<br/>  "
      ]
    },
    {
      "cell_type": "code",
      "execution_count": 24,
      "metadata": {
        "id": "MHJ6yu_7dTIV",
        "outputId": "a8e6bb37-d48f-4995-f263-c720d172d888",
        "colab": {
          "base_uri": "https://localhost:8080/"
        }
      },
      "outputs": [
        {
          "output_type": "execute_result",
          "data": {
            "text/plain": [
              "[array([[[ 0,  1,  2],\n",
              "         [ 4,  5,  6]],\n",
              " \n",
              "        [[ 8,  9, 10],\n",
              "         [12, 13, 14]]]),\n",
              " array([[[ 3],\n",
              "         [ 7]],\n",
              " \n",
              "        [[11],\n",
              "         [15]]])]"
            ]
          },
          "metadata": {},
          "execution_count": 24
        }
      ],
      "source": [
        "x = np.arange(16).reshape(2, 2, 4)\n",
        "np.split(x, [3],axis=2)"
      ]
    },
    {
      "cell_type": "markdown",
      "metadata": {
        "id": "cHg-2PL8dTIV"
      },
      "source": [
        "Q12. Let x be an array <br />\n",
        "[[  0.,   1.,   2.,   3.],<br>\n",
        " [  4.,   5.,   6.,   7.],<br>\n",
        " [  8.,   9.,  10.,  11.],<br>\n",
        " [ 12.,  13.,  14.,  15.]].<br>\n",
        "Split it into two arrays along the second axis."
      ]
    },
    {
      "cell_type": "code",
      "execution_count": 25,
      "metadata": {
        "id": "gMLzDnUedTIW",
        "outputId": "0f00e928-c53c-408b-ca6d-5cc7ea36b331",
        "colab": {
          "base_uri": "https://localhost:8080/"
        }
      },
      "outputs": [
        {
          "output_type": "execute_result",
          "data": {
            "text/plain": [
              "[array([[ 0,  1],\n",
              "        [ 4,  5],\n",
              "        [ 8,  9],\n",
              "        [12, 13]]),\n",
              " array([[ 2,  3],\n",
              "        [ 6,  7],\n",
              "        [10, 11],\n",
              "        [14, 15]])]"
            ]
          },
          "metadata": {},
          "execution_count": 25
        }
      ],
      "source": [
        "x = np.arange(16).reshape((4, 4))\n",
        "np.hsplit(x, 2)"
      ]
    },
    {
      "cell_type": "markdown",
      "metadata": {
        "id": "OWgirTaIdTIW"
      },
      "source": [
        "Q13. Let x be an array <br />\n",
        "[[  0.,   1.,   2.,   3.],<br>\n",
        " [  4.,   5.,   6.,   7.],<br>\n",
        " [  8.,   9.,  10.,  11.],<br>\n",
        " [ 12.,  13.,  14.,  15.]].<br>\n",
        "Split it into two arrays along the first axis."
      ]
    },
    {
      "cell_type": "code",
      "execution_count": 26,
      "metadata": {
        "id": "LiaBNMDmdTIW",
        "outputId": "d4075e26-caf6-4f15-bb91-b49d4b1a4f25",
        "colab": {
          "base_uri": "https://localhost:8080/"
        }
      },
      "outputs": [
        {
          "output_type": "execute_result",
          "data": {
            "text/plain": [
              "[array([[0, 1, 2, 3],\n",
              "        [4, 5, 6, 7]]),\n",
              " array([[ 8,  9, 10, 11],\n",
              "        [12, 13, 14, 15]])]"
            ]
          },
          "metadata": {},
          "execution_count": 26
        }
      ],
      "source": [
        "x = np.arange(16).reshape((4, 4))\n",
        "np.vsplit(x, 2)"
      ]
    },
    {
      "cell_type": "markdown",
      "metadata": {
        "id": "6WwGhUYidTIX"
      },
      "source": [
        "Q14. Let x be an array [0, 1, 2]. Convert it to <br/>\n",
        "[[0, 1, 2, 0, 1, 2],<br/>\n",
        " [0, 1, 2, 0, 1, 2]]."
      ]
    },
    {
      "cell_type": "code",
      "execution_count": 27,
      "metadata": {
        "id": "ZkJLT3HJdTIX",
        "outputId": "cd717d3e-53f4-4f10-95dc-fead160dde9a",
        "colab": {
          "base_uri": "https://localhost:8080/"
        }
      },
      "outputs": [
        {
          "output_type": "execute_result",
          "data": {
            "text/plain": [
              "array([[0, 1, 2, 0, 1, 2],\n",
              "       [0, 1, 2, 0, 1, 2]])"
            ]
          },
          "metadata": {},
          "execution_count": 27
        }
      ],
      "source": [
        "x = np.array([0, 1, 2])\n",
        "np.tile(x, [2, 2])"
      ]
    },
    {
      "cell_type": "markdown",
      "metadata": {
        "id": "WLnygrVhdTIX"
      },
      "source": [
        "Q15. Let x be an array [0, 1, 2]. Convert it to <br/>\n",
        "[0, 0, 1, 1, 2, 2]."
      ]
    },
    {
      "cell_type": "code",
      "execution_count": 28,
      "metadata": {
        "id": "2xvkvlCWdTIY",
        "outputId": "1ca97fc6-4f8b-40a9-b511-57a954c77aef",
        "colab": {
          "base_uri": "https://localhost:8080/"
        }
      },
      "outputs": [
        {
          "output_type": "execute_result",
          "data": {
            "text/plain": [
              "array([0, 0, 1, 1, 2, 2])"
            ]
          },
          "metadata": {},
          "execution_count": 28
        }
      ],
      "source": [
        "x = np.array([0, 1, 2])\n",
        "np.repeat(x, 2)"
      ]
    },
    {
      "cell_type": "markdown",
      "metadata": {
        "id": "yDli6GESdTIY"
      },
      "source": [
        "Q16. Let x be an array [0, 0, 0, 1, 2, 3, 0, 2, 1, 0].<br/>\n",
        "remove the leading the trailing zeros."
      ]
    },
    {
      "cell_type": "code",
      "execution_count": 29,
      "metadata": {
        "id": "nfkXtkPydTIY",
        "outputId": "f8f3115e-ddc7-405b-b9a9-cfcb5768a6a5",
        "colab": {
          "base_uri": "https://localhost:8080/"
        }
      },
      "outputs": [
        {
          "output_type": "execute_result",
          "data": {
            "text/plain": [
              "array([1, 2, 3, 0, 2, 1])"
            ]
          },
          "metadata": {},
          "execution_count": 29
        }
      ],
      "source": [
        "x = np.array((0, 0, 0, 1, 2, 3, 0, 2, 1, 0))\n",
        "np.trim_zeros(x)"
      ]
    },
    {
      "cell_type": "markdown",
      "metadata": {
        "id": "PYTBbWM7dTIg"
      },
      "source": [
        "Q17. Let x be an array [2, 2, 1, 5, 4, 5, 1, 2, 3]. Get two arrays of unique elements and their counts.\n"
      ]
    },
    {
      "cell_type": "code",
      "execution_count": 30,
      "metadata": {
        "id": "957WCVq2dTIg",
        "outputId": "c480f704-4d22-4f8d-f383-f65ba4be0bf9",
        "colab": {
          "base_uri": "https://localhost:8080/"
        }
      },
      "outputs": [
        {
          "output_type": "stream",
          "name": "stdout",
          "text": [
            "[1 2 3 4 5] [2 3 1 1 2]\n"
          ]
        }
      ],
      "source": [
        "x = np.array([2, 2, 1, 5, 4, 5, 1, 2, 3])\n",
        "u, indices = np.unique(x, return_counts=True)\n",
        "print(u, indices)"
      ]
    },
    {
      "cell_type": "markdown",
      "metadata": {
        "id": "LGgID8IKdTIg"
      },
      "source": [
        "Q18. Lex x be an array <br/>\n",
        "[[ 1 2]<br/>\n",
        " [ 3 4].<br/>\n",
        "Flip x along the second axis."
      ]
    },
    {
      "cell_type": "code",
      "execution_count": 31,
      "metadata": {
        "id": "b5BCeQVZdTIg",
        "outputId": "25c332fe-3ebe-4390-d651-f09f6896bb7b",
        "colab": {
          "base_uri": "https://localhost:8080/"
        }
      },
      "outputs": [
        {
          "output_type": "execute_result",
          "data": {
            "text/plain": [
              "array([[2, 1],\n",
              "       [4, 3]])"
            ]
          },
          "metadata": {},
          "execution_count": 31
        }
      ],
      "source": [
        "x = np.array([[1,2], [3,4]])\n",
        "np.fliplr(x)"
      ]
    },
    {
      "cell_type": "markdown",
      "metadata": {
        "id": "hgHZFG5kdTIh"
      },
      "source": [
        "Q19. Lex x be an array <br/>\n",
        "[[ 1 2]<br/>\n",
        " [ 3 4].<br/>\n",
        "Flip x along the first axis."
      ]
    },
    {
      "cell_type": "code",
      "execution_count": 32,
      "metadata": {
        "id": "s_bHoRD0dTIh",
        "outputId": "a1193cf6-5f3b-4766-acf7-258604b0d7b7",
        "colab": {
          "base_uri": "https://localhost:8080/"
        }
      },
      "outputs": [
        {
          "output_type": "execute_result",
          "data": {
            "text/plain": [
              "array([[3, 4],\n",
              "       [1, 2]])"
            ]
          },
          "metadata": {},
          "execution_count": 32
        }
      ],
      "source": [
        "x = np.array([[1,2], [3,4]])\n",
        "np.flipud(x)"
      ]
    },
    {
      "cell_type": "markdown",
      "metadata": {
        "id": "5KL9rT6vdTIh"
      },
      "source": [
        "Q20. Lex x be an array <br/>\n",
        "[[ 1 2]<br/>\n",
        " [ 3 4].<br/>\n",
        "Rotate x 90 degrees counter-clockwise."
      ]
    },
    {
      "cell_type": "code",
      "execution_count": 33,
      "metadata": {
        "id": "g2uMKhJCdTIh",
        "outputId": "22e62f9f-08aa-4f2e-e0e8-c63196fe1faf",
        "colab": {
          "base_uri": "https://localhost:8080/"
        }
      },
      "outputs": [
        {
          "output_type": "execute_result",
          "data": {
            "text/plain": [
              "array([[2, 4],\n",
              "       [1, 3]])"
            ]
          },
          "metadata": {},
          "execution_count": 33
        }
      ],
      "source": [
        "x = np.array([[1,2], [3,4]])\n",
        "np.rot90(x)"
      ]
    },
    {
      "cell_type": "markdown",
      "metadata": {
        "id": "p7jiRDgWdTIh"
      },
      "source": [
        "Q21 Lex x be an array <br/>\n",
        "[[ 1 2 3 4]<br/>\n",
        " [ 5 6 7 8].<br/>\n",
        "Shift elements one step to right along the second axis."
      ]
    },
    {
      "cell_type": "code",
      "execution_count": 34,
      "metadata": {
        "id": "UIzXezuddTIh",
        "outputId": "691fd8d4-38c0-48b7-d5f8-06154f715d46",
        "colab": {
          "base_uri": "https://localhost:8080/"
        }
      },
      "outputs": [
        {
          "output_type": "execute_result",
          "data": {
            "text/plain": [
              "array([[4, 1, 2, 3],\n",
              "       [8, 5, 6, 7]])"
            ]
          },
          "metadata": {},
          "execution_count": 34
        }
      ],
      "source": [
        "x = np.arange(1, 9).reshape([2, 4])\n",
        "np.roll(x, 1, axis=1)"
      ]
    }
  ],
  "metadata": {
    "kernelspec": {
      "display_name": "Python 2",
      "language": "python",
      "name": "python2"
    },
    "language_info": {
      "codemirror_mode": {
        "name": "ipython",
        "version": 2
      },
      "file_extension": ".py",
      "mimetype": "text/x-python",
      "name": "python",
      "nbconvert_exporter": "python",
      "pygments_lexer": "ipython2",
      "version": "2.7.10"
    },
    "colab": {
      "provenance": []
    }
  },
  "nbformat": 4,
  "nbformat_minor": 0
}